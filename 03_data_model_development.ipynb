{
  "nbformat": 4,
  "nbformat_minor": 0,
  "metadata": {
    "colab": {
      "provenance": [],
      "toc_visible": true
    },
    "kernelspec": {
      "name": "python3",
      "display_name": "Python 3"
    },
    "language_info": {
      "name": "python"
    }
  },
  "cells": [
    {
      "cell_type": "markdown",
      "source": [
        "# **Prediction of carbon footprints from country-specific data**\n",
        "\n",
        "## Stage 3: Predictive data analysis with the Random Forest machine learning algorithm\n",
        "\n",
        "**Input:** csv data file produced by the 1_data_exploration.py\n",
        "\n",
        "**Output:** a predictive Random Forest model and its corresponding metrics by evaluating unseen data\n",
        "\n",
        "**Programming language:** Python 3.7\n",
        "\n",
        "**Libraries used:** sklearn, numpy, pandas, seaborn, matplotlib, sys\n",
        "\n",
        "**About this notebook**\n",
        "      This notebook will show the steps taken to develop a predictive Random Forest model by using the scikit-learn library."
      ],
      "metadata": {
        "id": "CVBK6cilcDNG"
      }
    },
    {
      "cell_type": "code",
      "execution_count": 21,
      "metadata": {
        "id": "NZRRmWPhv_Eg"
      },
      "outputs": [],
      "source": [
        "# import all needed libraries\n",
        "import pandas as pd\n",
        "import numpy as np\n",
        "import numpy.random as nr\n",
        "import sys\n",
        "import seaborn as sns\n",
        "import matplotlib.pyplot as plt\n",
        "\n",
        "import sklearn.model_selection as ms\n",
        "from sklearn.model_selection import cross_val_score, train_test_split\n",
        "from sklearn.ensemble import RandomForestRegressor\n",
        "from sklearn import feature_selection as fs\n",
        "from sklearn.preprocessing import StandardScaler"
      ]
    },
    {
      "cell_type": "code",
      "source": [
        "# load the cleaned dataset\n",
        "data = pd.read_csv('data_cleaned.csv')"
      ],
      "metadata": {
        "id": "BRc94AM40Lzj"
      },
      "execution_count": 22,
      "outputs": []
    },
    {
      "cell_type": "code",
      "source": [
        "# define a random state number for all random operations - ensures reproducibility of all results\n",
        "random_state_num = 0"
      ],
      "metadata": {
        "id": "NojCCbcJwESA"
      },
      "execution_count": 23,
      "outputs": []
    },
    {
      "cell_type": "code",
      "source": [
        "data.shape"
      ],
      "metadata": {
        "colab": {
          "base_uri": "https://localhost:8080/"
        },
        "id": "8_zXdpLawGfG",
        "outputId": "6d558a67-6d31-4b8d-c446-3ad34d033ab5"
      },
      "execution_count": 24,
      "outputs": [
        {
          "output_type": "execute_result",
          "data": {
            "text/plain": [
              "(923, 17)"
            ]
          },
          "metadata": {},
          "execution_count": 24
        }
      ]
    },
    {
      "cell_type": "code",
      "source": [
        "print(\"available columns and their data types:\")\n",
        "data.dtypes"
      ],
      "metadata": {
        "colab": {
          "base_uri": "https://localhost:8080/"
        },
        "id": "DU27cBYhwO1a",
        "outputId": "0a8d4bbf-3ed7-436b-923f-3ff1079ea348"
      },
      "execution_count": 25,
      "outputs": [
        {
          "output_type": "stream",
          "name": "stdout",
          "text": [
            "available columns and their data types:\n"
          ]
        },
        {
          "output_type": "execute_result",
          "data": {
            "text/plain": [
              "country                 object\n",
              "year                     int64\n",
              "co2_kt                 float64\n",
              "co2_per_gdp            float64\n",
              "cereal_yield           float64\n",
              "fdi_perc_gdp           float64\n",
              "elec_access_perc       float64\n",
              "ch4_ttl                float64\n",
              "n2o_ttl                float64\n",
              "urb_pop_growth_perc    float64\n",
              "pop_growth_perc        float64\n",
              "gdp                    float64\n",
              "gni_per_cap            float64\n",
              "pop                      int64\n",
              "urb_pop                  int64\n",
              "agr_land               float64\n",
              "co2_per_cap            float64\n",
              "dtype: object"
            ]
          },
          "metadata": {},
          "execution_count": 25
        }
      ]
    },
    {
      "cell_type": "code",
      "source": [
        "data = data.sort_values(by=['year', 'country'])"
      ],
      "metadata": {
        "id": "knB1JD1dwZ6K"
      },
      "execution_count": 26,
      "outputs": []
    },
    {
      "cell_type": "code",
      "source": [
        "print(\"Overview of the first 5 rows:\")\n",
        "data.head()"
      ],
      "metadata": {
        "colab": {
          "base_uri": "https://localhost:8080/",
          "height": 288
        },
        "id": "EjcdWHSbwVQV",
        "outputId": "8e04a560-1a8e-4c1e-d6fb-e04437e842b3"
      },
      "execution_count": 27,
      "outputs": [
        {
          "output_type": "stream",
          "name": "stdout",
          "text": [
            "Overview of the first 5 rows:\n"
          ]
        },
        {
          "output_type": "execute_result",
          "data": {
            "text/plain": [
              "    country  year    co2_kt  co2_per_gdp  cereal_yield  fdi_perc_gdp  \\\n",
              "863     ARE  2000   84729.1     0.275155       17504.7     -0.485282   \n",
              "0       ARG  2000  132265.5     0.309098        3461.8      3.665791   \n",
              "20      AUS  2000  339422.8     0.672571        2107.3      3.581377   \n",
              "400     BEL  2000  117274.6     0.411661        8021.4     37.475312   \n",
              "380     BGD  2000   20686.7     0.101708        3384.4      0.525362   \n",
              "\n",
              "     elec_access_perc       ch4_ttl      n2o_ttl  urb_pop_growth_perc  \\\n",
              "863        100.000000   27691.02500    895.83240             6.112729   \n",
              "0           95.680473  119811.10500  38831.57760             1.346647   \n",
              "20         100.000000  165945.06270  98386.78327             0.984334   \n",
              "400        100.000000   12136.78323   7694.74207             0.308431   \n",
              "380         32.000000   70956.84134  19647.05865             3.563967   \n",
              "\n",
              "     pop_growth_perc           gdp  gni_per_cap        pop   urb_pop  \\\n",
              "863         5.580387  1.043374e+11      30050.0    3275333   2627996   \n",
              "0           1.133277  2.842038e+11       7430.0   37070774  33045629   \n",
              "20          1.144473  4.158450e+11      21280.0   19028802  16028911   \n",
              "400         0.242518  2.367925e+11      25890.0   10251250   9956937   \n",
              "380         1.905524  5.336979e+10        430.0  129193327  30476706   \n",
              "\n",
              "      agr_land  co2_per_cap  \n",
              "863   7.702056    25.868851  \n",
              "0    46.958187     3.567918  \n",
              "20   59.288104    17.837318  \n",
              "400  45.891678    11.440029  \n",
              "380  72.213260     0.160122  "
            ],
            "text/html": [
              "\n",
              "\n",
              "  <div id=\"df-152ca804-1abe-4282-945b-1a9f83a23826\">\n",
              "    <div class=\"colab-df-container\">\n",
              "      <div>\n",
              "<style scoped>\n",
              "    .dataframe tbody tr th:only-of-type {\n",
              "        vertical-align: middle;\n",
              "    }\n",
              "\n",
              "    .dataframe tbody tr th {\n",
              "        vertical-align: top;\n",
              "    }\n",
              "\n",
              "    .dataframe thead th {\n",
              "        text-align: right;\n",
              "    }\n",
              "</style>\n",
              "<table border=\"1\" class=\"dataframe\">\n",
              "  <thead>\n",
              "    <tr style=\"text-align: right;\">\n",
              "      <th></th>\n",
              "      <th>country</th>\n",
              "      <th>year</th>\n",
              "      <th>co2_kt</th>\n",
              "      <th>co2_per_gdp</th>\n",
              "      <th>cereal_yield</th>\n",
              "      <th>fdi_perc_gdp</th>\n",
              "      <th>elec_access_perc</th>\n",
              "      <th>ch4_ttl</th>\n",
              "      <th>n2o_ttl</th>\n",
              "      <th>urb_pop_growth_perc</th>\n",
              "      <th>pop_growth_perc</th>\n",
              "      <th>gdp</th>\n",
              "      <th>gni_per_cap</th>\n",
              "      <th>pop</th>\n",
              "      <th>urb_pop</th>\n",
              "      <th>agr_land</th>\n",
              "      <th>co2_per_cap</th>\n",
              "    </tr>\n",
              "  </thead>\n",
              "  <tbody>\n",
              "    <tr>\n",
              "      <th>863</th>\n",
              "      <td>ARE</td>\n",
              "      <td>2000</td>\n",
              "      <td>84729.1</td>\n",
              "      <td>0.275155</td>\n",
              "      <td>17504.7</td>\n",
              "      <td>-0.485282</td>\n",
              "      <td>100.000000</td>\n",
              "      <td>27691.02500</td>\n",
              "      <td>895.83240</td>\n",
              "      <td>6.112729</td>\n",
              "      <td>5.580387</td>\n",
              "      <td>1.043374e+11</td>\n",
              "      <td>30050.0</td>\n",
              "      <td>3275333</td>\n",
              "      <td>2627996</td>\n",
              "      <td>7.702056</td>\n",
              "      <td>25.868851</td>\n",
              "    </tr>\n",
              "    <tr>\n",
              "      <th>0</th>\n",
              "      <td>ARG</td>\n",
              "      <td>2000</td>\n",
              "      <td>132265.5</td>\n",
              "      <td>0.309098</td>\n",
              "      <td>3461.8</td>\n",
              "      <td>3.665791</td>\n",
              "      <td>95.680473</td>\n",
              "      <td>119811.10500</td>\n",
              "      <td>38831.57760</td>\n",
              "      <td>1.346647</td>\n",
              "      <td>1.133277</td>\n",
              "      <td>2.842038e+11</td>\n",
              "      <td>7430.0</td>\n",
              "      <td>37070774</td>\n",
              "      <td>33045629</td>\n",
              "      <td>46.958187</td>\n",
              "      <td>3.567918</td>\n",
              "    </tr>\n",
              "    <tr>\n",
              "      <th>20</th>\n",
              "      <td>AUS</td>\n",
              "      <td>2000</td>\n",
              "      <td>339422.8</td>\n",
              "      <td>0.672571</td>\n",
              "      <td>2107.3</td>\n",
              "      <td>3.581377</td>\n",
              "      <td>100.000000</td>\n",
              "      <td>165945.06270</td>\n",
              "      <td>98386.78327</td>\n",
              "      <td>0.984334</td>\n",
              "      <td>1.144473</td>\n",
              "      <td>4.158450e+11</td>\n",
              "      <td>21280.0</td>\n",
              "      <td>19028802</td>\n",
              "      <td>16028911</td>\n",
              "      <td>59.288104</td>\n",
              "      <td>17.837318</td>\n",
              "    </tr>\n",
              "    <tr>\n",
              "      <th>400</th>\n",
              "      <td>BEL</td>\n",
              "      <td>2000</td>\n",
              "      <td>117274.6</td>\n",
              "      <td>0.411661</td>\n",
              "      <td>8021.4</td>\n",
              "      <td>37.475312</td>\n",
              "      <td>100.000000</td>\n",
              "      <td>12136.78323</td>\n",
              "      <td>7694.74207</td>\n",
              "      <td>0.308431</td>\n",
              "      <td>0.242518</td>\n",
              "      <td>2.367925e+11</td>\n",
              "      <td>25890.0</td>\n",
              "      <td>10251250</td>\n",
              "      <td>9956937</td>\n",
              "      <td>45.891678</td>\n",
              "      <td>11.440029</td>\n",
              "    </tr>\n",
              "    <tr>\n",
              "      <th>380</th>\n",
              "      <td>BGD</td>\n",
              "      <td>2000</td>\n",
              "      <td>20686.7</td>\n",
              "      <td>0.101708</td>\n",
              "      <td>3384.4</td>\n",
              "      <td>0.525362</td>\n",
              "      <td>32.000000</td>\n",
              "      <td>70956.84134</td>\n",
              "      <td>19647.05865</td>\n",
              "      <td>3.563967</td>\n",
              "      <td>1.905524</td>\n",
              "      <td>5.336979e+10</td>\n",
              "      <td>430.0</td>\n",
              "      <td>129193327</td>\n",
              "      <td>30476706</td>\n",
              "      <td>72.213260</td>\n",
              "      <td>0.160122</td>\n",
              "    </tr>\n",
              "  </tbody>\n",
              "</table>\n",
              "</div>\n",
              "      <button class=\"colab-df-convert\" onclick=\"convertToInteractive('df-152ca804-1abe-4282-945b-1a9f83a23826')\"\n",
              "              title=\"Convert this dataframe to an interactive table.\"\n",
              "              style=\"display:none;\">\n",
              "\n",
              "  <svg xmlns=\"http://www.w3.org/2000/svg\" height=\"24px\"viewBox=\"0 0 24 24\"\n",
              "       width=\"24px\">\n",
              "    <path d=\"M0 0h24v24H0V0z\" fill=\"none\"/>\n",
              "    <path d=\"M18.56 5.44l.94 2.06.94-2.06 2.06-.94-2.06-.94-.94-2.06-.94 2.06-2.06.94zm-11 1L8.5 8.5l.94-2.06 2.06-.94-2.06-.94L8.5 2.5l-.94 2.06-2.06.94zm10 10l.94 2.06.94-2.06 2.06-.94-2.06-.94-.94-2.06-.94 2.06-2.06.94z\"/><path d=\"M17.41 7.96l-1.37-1.37c-.4-.4-.92-.59-1.43-.59-.52 0-1.04.2-1.43.59L10.3 9.45l-7.72 7.72c-.78.78-.78 2.05 0 2.83L4 21.41c.39.39.9.59 1.41.59.51 0 1.02-.2 1.41-.59l7.78-7.78 2.81-2.81c.8-.78.8-2.07 0-2.86zM5.41 20L4 18.59l7.72-7.72 1.47 1.35L5.41 20z\"/>\n",
              "  </svg>\n",
              "      </button>\n",
              "\n",
              "\n",
              "\n",
              "    <div id=\"df-bf8b8aa7-5325-492b-a727-100cd06f255a\">\n",
              "      <button class=\"colab-df-quickchart\" onclick=\"quickchart('df-bf8b8aa7-5325-492b-a727-100cd06f255a')\"\n",
              "              title=\"Suggest charts.\"\n",
              "              style=\"display:none;\">\n",
              "\n",
              "<svg xmlns=\"http://www.w3.org/2000/svg\" height=\"24px\"viewBox=\"0 0 24 24\"\n",
              "     width=\"24px\">\n",
              "    <g>\n",
              "        <path d=\"M19 3H5c-1.1 0-2 .9-2 2v14c0 1.1.9 2 2 2h14c1.1 0 2-.9 2-2V5c0-1.1-.9-2-2-2zM9 17H7v-7h2v7zm4 0h-2V7h2v10zm4 0h-2v-4h2v4z\"/>\n",
              "    </g>\n",
              "</svg>\n",
              "      </button>\n",
              "    </div>\n",
              "\n",
              "<style>\n",
              "  .colab-df-quickchart {\n",
              "    background-color: #E8F0FE;\n",
              "    border: none;\n",
              "    border-radius: 50%;\n",
              "    cursor: pointer;\n",
              "    display: none;\n",
              "    fill: #1967D2;\n",
              "    height: 32px;\n",
              "    padding: 0 0 0 0;\n",
              "    width: 32px;\n",
              "  }\n",
              "\n",
              "  .colab-df-quickchart:hover {\n",
              "    background-color: #E2EBFA;\n",
              "    box-shadow: 0px 1px 2px rgba(60, 64, 67, 0.3), 0px 1px 3px 1px rgba(60, 64, 67, 0.15);\n",
              "    fill: #174EA6;\n",
              "  }\n",
              "\n",
              "  [theme=dark] .colab-df-quickchart {\n",
              "    background-color: #3B4455;\n",
              "    fill: #D2E3FC;\n",
              "  }\n",
              "\n",
              "  [theme=dark] .colab-df-quickchart:hover {\n",
              "    background-color: #434B5C;\n",
              "    box-shadow: 0px 1px 3px 1px rgba(0, 0, 0, 0.15);\n",
              "    filter: drop-shadow(0px 1px 2px rgba(0, 0, 0, 0.3));\n",
              "    fill: #FFFFFF;\n",
              "  }\n",
              "</style>\n",
              "\n",
              "    <script>\n",
              "      async function quickchart(key) {\n",
              "        const containerElement = document.querySelector('#' + key);\n",
              "        const charts = await google.colab.kernel.invokeFunction(\n",
              "            'suggestCharts', [key], {});\n",
              "      }\n",
              "    </script>\n",
              "\n",
              "      <script>\n",
              "\n",
              "function displayQuickchartButton(domScope) {\n",
              "  let quickchartButtonEl =\n",
              "    domScope.querySelector('#df-bf8b8aa7-5325-492b-a727-100cd06f255a button.colab-df-quickchart');\n",
              "  quickchartButtonEl.style.display =\n",
              "    google.colab.kernel.accessAllowed ? 'block' : 'none';\n",
              "}\n",
              "\n",
              "        displayQuickchartButton(document);\n",
              "      </script>\n",
              "      <style>\n",
              "    .colab-df-container {\n",
              "      display:flex;\n",
              "      flex-wrap:wrap;\n",
              "      gap: 12px;\n",
              "    }\n",
              "\n",
              "    .colab-df-convert {\n",
              "      background-color: #E8F0FE;\n",
              "      border: none;\n",
              "      border-radius: 50%;\n",
              "      cursor: pointer;\n",
              "      display: none;\n",
              "      fill: #1967D2;\n",
              "      height: 32px;\n",
              "      padding: 0 0 0 0;\n",
              "      width: 32px;\n",
              "    }\n",
              "\n",
              "    .colab-df-convert:hover {\n",
              "      background-color: #E2EBFA;\n",
              "      box-shadow: 0px 1px 2px rgba(60, 64, 67, 0.3), 0px 1px 3px 1px rgba(60, 64, 67, 0.15);\n",
              "      fill: #174EA6;\n",
              "    }\n",
              "\n",
              "    [theme=dark] .colab-df-convert {\n",
              "      background-color: #3B4455;\n",
              "      fill: #D2E3FC;\n",
              "    }\n",
              "\n",
              "    [theme=dark] .colab-df-convert:hover {\n",
              "      background-color: #434B5C;\n",
              "      box-shadow: 0px 1px 3px 1px rgba(0, 0, 0, 0.15);\n",
              "      filter: drop-shadow(0px 1px 2px rgba(0, 0, 0, 0.3));\n",
              "      fill: #FFFFFF;\n",
              "    }\n",
              "  </style>\n",
              "\n",
              "      <script>\n",
              "        const buttonEl =\n",
              "          document.querySelector('#df-152ca804-1abe-4282-945b-1a9f83a23826 button.colab-df-convert');\n",
              "        buttonEl.style.display =\n",
              "          google.colab.kernel.accessAllowed ? 'block' : 'none';\n",
              "\n",
              "        async function convertToInteractive(key) {\n",
              "          const element = document.querySelector('#df-152ca804-1abe-4282-945b-1a9f83a23826');\n",
              "          const dataTable =\n",
              "            await google.colab.kernel.invokeFunction('convertToInteractive',\n",
              "                                                     [key], {});\n",
              "          if (!dataTable) return;\n",
              "\n",
              "          const docLinkHtml = 'Like what you see? Visit the ' +\n",
              "            '<a target=\"_blank\" href=https://colab.research.google.com/notebooks/data_table.ipynb>data table notebook</a>'\n",
              "            + ' to learn more about interactive tables.';\n",
              "          element.innerHTML = '';\n",
              "          dataTable['output_type'] = 'display_data';\n",
              "          await google.colab.output.renderOutput(dataTable, element);\n",
              "          const docLink = document.createElement('div');\n",
              "          docLink.innerHTML = docLinkHtml;\n",
              "          element.appendChild(docLink);\n",
              "        }\n",
              "      </script>\n",
              "    </div>\n",
              "  </div>\n"
            ]
          },
          "metadata": {},
          "execution_count": 27
        }
      ]
    },
    {
      "cell_type": "code",
      "source": [
        "print(\"Descriptive statistics:\")\n",
        "data.describe()"
      ],
      "metadata": {
        "colab": {
          "base_uri": "https://localhost:8080/",
          "height": 382
        },
        "id": "TPo-Hor9woJR",
        "outputId": "013204b6-15b2-4cd1-9edb-a65aaabf4a27"
      },
      "execution_count": 28,
      "outputs": [
        {
          "output_type": "stream",
          "name": "stdout",
          "text": [
            "Descriptive statistics:\n"
          ]
        },
        {
          "output_type": "execute_result",
          "data": {
            "text/plain": [
              "              year        co2_kt  co2_per_gdp  cereal_yield  fdi_perc_gdp  \\\n",
              "count   923.000000  9.230000e+02   923.000000    923.000000    923.000000   \n",
              "mean   2009.560130  5.469666e+05     0.267883   4690.148321      3.116272   \n",
              "std       5.771819  1.391286e+06     0.189047   3529.687799      5.992425   \n",
              "min    2000.000000  1.633000e+03     0.055583    226.100000    -36.140347   \n",
              "25%    2005.000000  4.832270e+04     0.145359   2747.850000      0.931483   \n",
              "50%    2010.000000  1.549175e+05     0.222712   4004.200000      2.101793   \n",
              "75%    2015.000000  3.960266e+05     0.320044   6171.950000      3.701100   \n",
              "max    2019.000000  1.076282e+07     1.562937  36761.900000     86.479149   \n",
              "\n",
              "       elec_access_perc       ch4_ttl        n2o_ttl  urb_pop_growth_perc  \\\n",
              "count        923.000000  9.230000e+02     923.000000           923.000000   \n",
              "mean          89.049168  1.204662e+05   43937.256397             1.873152   \n",
              "std           20.707493  2.069728e+05   83339.494097             1.732849   \n",
              "min           10.219621  5.274696e+02     369.198526            -4.980317   \n",
              "25%           88.789100  1.573101e+04    6045.718355             0.802616   \n",
              "50%           99.900000  4.746880e+04   19567.497760             1.500849   \n",
              "75%          100.000000  9.524770e+04   40398.820895             2.658842   \n",
              "max          100.000000  1.163215e+06  551682.723500            18.580685   \n",
              "\n",
              "       pop_growth_perc           gdp    gni_per_cap           pop  \\\n",
              "count       923.000000  9.230000e+02     923.000000  9.230000e+02   \n",
              "mean          1.226301  1.167162e+12   20449.003250  1.158330e+08   \n",
              "std           1.431216  2.606037e+12   21792.141454  2.584430e+08   \n",
              "min          -5.280078  3.349170e+09     110.000000  3.308150e+05   \n",
              "25%           0.482827  1.281455e+11    2390.000000  1.262752e+07   \n",
              "50%           1.013722  3.343370e+11   10180.000000  4.156352e+07   \n",
              "75%           1.734059  1.052957e+12   37845.000000  1.011211e+08   \n",
              "max          18.127984  2.138098e+13  105070.000000  1.407745e+09   \n",
              "\n",
              "            urb_pop    agr_land  co2_per_cap  \n",
              "count  9.230000e+02  923.000000   923.000000  \n",
              "mean   6.028536e+07   39.864163     6.075257  \n",
              "std    1.130728e+08   21.403371     5.128013  \n",
              "min    3.099740e+05    2.693886     0.053064  \n",
              "25%    7.123984e+06   21.225045     1.614102  \n",
              "50%    2.811489e+07   42.507696     5.538855  \n",
              "75%    5.264920e+07   53.933677     8.565889  \n",
              "max    8.489829e+08   80.888475    28.138659  "
            ],
            "text/html": [
              "\n",
              "\n",
              "  <div id=\"df-a1b5d7d7-81ba-4a56-9832-e1f5b3236da4\">\n",
              "    <div class=\"colab-df-container\">\n",
              "      <div>\n",
              "<style scoped>\n",
              "    .dataframe tbody tr th:only-of-type {\n",
              "        vertical-align: middle;\n",
              "    }\n",
              "\n",
              "    .dataframe tbody tr th {\n",
              "        vertical-align: top;\n",
              "    }\n",
              "\n",
              "    .dataframe thead th {\n",
              "        text-align: right;\n",
              "    }\n",
              "</style>\n",
              "<table border=\"1\" class=\"dataframe\">\n",
              "  <thead>\n",
              "    <tr style=\"text-align: right;\">\n",
              "      <th></th>\n",
              "      <th>year</th>\n",
              "      <th>co2_kt</th>\n",
              "      <th>co2_per_gdp</th>\n",
              "      <th>cereal_yield</th>\n",
              "      <th>fdi_perc_gdp</th>\n",
              "      <th>elec_access_perc</th>\n",
              "      <th>ch4_ttl</th>\n",
              "      <th>n2o_ttl</th>\n",
              "      <th>urb_pop_growth_perc</th>\n",
              "      <th>pop_growth_perc</th>\n",
              "      <th>gdp</th>\n",
              "      <th>gni_per_cap</th>\n",
              "      <th>pop</th>\n",
              "      <th>urb_pop</th>\n",
              "      <th>agr_land</th>\n",
              "      <th>co2_per_cap</th>\n",
              "    </tr>\n",
              "  </thead>\n",
              "  <tbody>\n",
              "    <tr>\n",
              "      <th>count</th>\n",
              "      <td>923.000000</td>\n",
              "      <td>9.230000e+02</td>\n",
              "      <td>923.000000</td>\n",
              "      <td>923.000000</td>\n",
              "      <td>923.000000</td>\n",
              "      <td>923.000000</td>\n",
              "      <td>9.230000e+02</td>\n",
              "      <td>923.000000</td>\n",
              "      <td>923.000000</td>\n",
              "      <td>923.000000</td>\n",
              "      <td>9.230000e+02</td>\n",
              "      <td>923.000000</td>\n",
              "      <td>9.230000e+02</td>\n",
              "      <td>9.230000e+02</td>\n",
              "      <td>923.000000</td>\n",
              "      <td>923.000000</td>\n",
              "    </tr>\n",
              "    <tr>\n",
              "      <th>mean</th>\n",
              "      <td>2009.560130</td>\n",
              "      <td>5.469666e+05</td>\n",
              "      <td>0.267883</td>\n",
              "      <td>4690.148321</td>\n",
              "      <td>3.116272</td>\n",
              "      <td>89.049168</td>\n",
              "      <td>1.204662e+05</td>\n",
              "      <td>43937.256397</td>\n",
              "      <td>1.873152</td>\n",
              "      <td>1.226301</td>\n",
              "      <td>1.167162e+12</td>\n",
              "      <td>20449.003250</td>\n",
              "      <td>1.158330e+08</td>\n",
              "      <td>6.028536e+07</td>\n",
              "      <td>39.864163</td>\n",
              "      <td>6.075257</td>\n",
              "    </tr>\n",
              "    <tr>\n",
              "      <th>std</th>\n",
              "      <td>5.771819</td>\n",
              "      <td>1.391286e+06</td>\n",
              "      <td>0.189047</td>\n",
              "      <td>3529.687799</td>\n",
              "      <td>5.992425</td>\n",
              "      <td>20.707493</td>\n",
              "      <td>2.069728e+05</td>\n",
              "      <td>83339.494097</td>\n",
              "      <td>1.732849</td>\n",
              "      <td>1.431216</td>\n",
              "      <td>2.606037e+12</td>\n",
              "      <td>21792.141454</td>\n",
              "      <td>2.584430e+08</td>\n",
              "      <td>1.130728e+08</td>\n",
              "      <td>21.403371</td>\n",
              "      <td>5.128013</td>\n",
              "    </tr>\n",
              "    <tr>\n",
              "      <th>min</th>\n",
              "      <td>2000.000000</td>\n",
              "      <td>1.633000e+03</td>\n",
              "      <td>0.055583</td>\n",
              "      <td>226.100000</td>\n",
              "      <td>-36.140347</td>\n",
              "      <td>10.219621</td>\n",
              "      <td>5.274696e+02</td>\n",
              "      <td>369.198526</td>\n",
              "      <td>-4.980317</td>\n",
              "      <td>-5.280078</td>\n",
              "      <td>3.349170e+09</td>\n",
              "      <td>110.000000</td>\n",
              "      <td>3.308150e+05</td>\n",
              "      <td>3.099740e+05</td>\n",
              "      <td>2.693886</td>\n",
              "      <td>0.053064</td>\n",
              "    </tr>\n",
              "    <tr>\n",
              "      <th>25%</th>\n",
              "      <td>2005.000000</td>\n",
              "      <td>4.832270e+04</td>\n",
              "      <td>0.145359</td>\n",
              "      <td>2747.850000</td>\n",
              "      <td>0.931483</td>\n",
              "      <td>88.789100</td>\n",
              "      <td>1.573101e+04</td>\n",
              "      <td>6045.718355</td>\n",
              "      <td>0.802616</td>\n",
              "      <td>0.482827</td>\n",
              "      <td>1.281455e+11</td>\n",
              "      <td>2390.000000</td>\n",
              "      <td>1.262752e+07</td>\n",
              "      <td>7.123984e+06</td>\n",
              "      <td>21.225045</td>\n",
              "      <td>1.614102</td>\n",
              "    </tr>\n",
              "    <tr>\n",
              "      <th>50%</th>\n",
              "      <td>2010.000000</td>\n",
              "      <td>1.549175e+05</td>\n",
              "      <td>0.222712</td>\n",
              "      <td>4004.200000</td>\n",
              "      <td>2.101793</td>\n",
              "      <td>99.900000</td>\n",
              "      <td>4.746880e+04</td>\n",
              "      <td>19567.497760</td>\n",
              "      <td>1.500849</td>\n",
              "      <td>1.013722</td>\n",
              "      <td>3.343370e+11</td>\n",
              "      <td>10180.000000</td>\n",
              "      <td>4.156352e+07</td>\n",
              "      <td>2.811489e+07</td>\n",
              "      <td>42.507696</td>\n",
              "      <td>5.538855</td>\n",
              "    </tr>\n",
              "    <tr>\n",
              "      <th>75%</th>\n",
              "      <td>2015.000000</td>\n",
              "      <td>3.960266e+05</td>\n",
              "      <td>0.320044</td>\n",
              "      <td>6171.950000</td>\n",
              "      <td>3.701100</td>\n",
              "      <td>100.000000</td>\n",
              "      <td>9.524770e+04</td>\n",
              "      <td>40398.820895</td>\n",
              "      <td>2.658842</td>\n",
              "      <td>1.734059</td>\n",
              "      <td>1.052957e+12</td>\n",
              "      <td>37845.000000</td>\n",
              "      <td>1.011211e+08</td>\n",
              "      <td>5.264920e+07</td>\n",
              "      <td>53.933677</td>\n",
              "      <td>8.565889</td>\n",
              "    </tr>\n",
              "    <tr>\n",
              "      <th>max</th>\n",
              "      <td>2019.000000</td>\n",
              "      <td>1.076282e+07</td>\n",
              "      <td>1.562937</td>\n",
              "      <td>36761.900000</td>\n",
              "      <td>86.479149</td>\n",
              "      <td>100.000000</td>\n",
              "      <td>1.163215e+06</td>\n",
              "      <td>551682.723500</td>\n",
              "      <td>18.580685</td>\n",
              "      <td>18.127984</td>\n",
              "      <td>2.138098e+13</td>\n",
              "      <td>105070.000000</td>\n",
              "      <td>1.407745e+09</td>\n",
              "      <td>8.489829e+08</td>\n",
              "      <td>80.888475</td>\n",
              "      <td>28.138659</td>\n",
              "    </tr>\n",
              "  </tbody>\n",
              "</table>\n",
              "</div>\n",
              "      <button class=\"colab-df-convert\" onclick=\"convertToInteractive('df-a1b5d7d7-81ba-4a56-9832-e1f5b3236da4')\"\n",
              "              title=\"Convert this dataframe to an interactive table.\"\n",
              "              style=\"display:none;\">\n",
              "\n",
              "  <svg xmlns=\"http://www.w3.org/2000/svg\" height=\"24px\"viewBox=\"0 0 24 24\"\n",
              "       width=\"24px\">\n",
              "    <path d=\"M0 0h24v24H0V0z\" fill=\"none\"/>\n",
              "    <path d=\"M18.56 5.44l.94 2.06.94-2.06 2.06-.94-2.06-.94-.94-2.06-.94 2.06-2.06.94zm-11 1L8.5 8.5l.94-2.06 2.06-.94-2.06-.94L8.5 2.5l-.94 2.06-2.06.94zm10 10l.94 2.06.94-2.06 2.06-.94-2.06-.94-.94-2.06-.94 2.06-2.06.94z\"/><path d=\"M17.41 7.96l-1.37-1.37c-.4-.4-.92-.59-1.43-.59-.52 0-1.04.2-1.43.59L10.3 9.45l-7.72 7.72c-.78.78-.78 2.05 0 2.83L4 21.41c.39.39.9.59 1.41.59.51 0 1.02-.2 1.41-.59l7.78-7.78 2.81-2.81c.8-.78.8-2.07 0-2.86zM5.41 20L4 18.59l7.72-7.72 1.47 1.35L5.41 20z\"/>\n",
              "  </svg>\n",
              "      </button>\n",
              "\n",
              "\n",
              "\n",
              "    <div id=\"df-35797cb4-ec93-4c58-a44e-54d2f6ffa7c6\">\n",
              "      <button class=\"colab-df-quickchart\" onclick=\"quickchart('df-35797cb4-ec93-4c58-a44e-54d2f6ffa7c6')\"\n",
              "              title=\"Suggest charts.\"\n",
              "              style=\"display:none;\">\n",
              "\n",
              "<svg xmlns=\"http://www.w3.org/2000/svg\" height=\"24px\"viewBox=\"0 0 24 24\"\n",
              "     width=\"24px\">\n",
              "    <g>\n",
              "        <path d=\"M19 3H5c-1.1 0-2 .9-2 2v14c0 1.1.9 2 2 2h14c1.1 0 2-.9 2-2V5c0-1.1-.9-2-2-2zM9 17H7v-7h2v7zm4 0h-2V7h2v10zm4 0h-2v-4h2v4z\"/>\n",
              "    </g>\n",
              "</svg>\n",
              "      </button>\n",
              "    </div>\n",
              "\n",
              "<style>\n",
              "  .colab-df-quickchart {\n",
              "    background-color: #E8F0FE;\n",
              "    border: none;\n",
              "    border-radius: 50%;\n",
              "    cursor: pointer;\n",
              "    display: none;\n",
              "    fill: #1967D2;\n",
              "    height: 32px;\n",
              "    padding: 0 0 0 0;\n",
              "    width: 32px;\n",
              "  }\n",
              "\n",
              "  .colab-df-quickchart:hover {\n",
              "    background-color: #E2EBFA;\n",
              "    box-shadow: 0px 1px 2px rgba(60, 64, 67, 0.3), 0px 1px 3px 1px rgba(60, 64, 67, 0.15);\n",
              "    fill: #174EA6;\n",
              "  }\n",
              "\n",
              "  [theme=dark] .colab-df-quickchart {\n",
              "    background-color: #3B4455;\n",
              "    fill: #D2E3FC;\n",
              "  }\n",
              "\n",
              "  [theme=dark] .colab-df-quickchart:hover {\n",
              "    background-color: #434B5C;\n",
              "    box-shadow: 0px 1px 3px 1px rgba(0, 0, 0, 0.15);\n",
              "    filter: drop-shadow(0px 1px 2px rgba(0, 0, 0, 0.3));\n",
              "    fill: #FFFFFF;\n",
              "  }\n",
              "</style>\n",
              "\n",
              "    <script>\n",
              "      async function quickchart(key) {\n",
              "        const containerElement = document.querySelector('#' + key);\n",
              "        const charts = await google.colab.kernel.invokeFunction(\n",
              "            'suggestCharts', [key], {});\n",
              "      }\n",
              "    </script>\n",
              "\n",
              "      <script>\n",
              "\n",
              "function displayQuickchartButton(domScope) {\n",
              "  let quickchartButtonEl =\n",
              "    domScope.querySelector('#df-35797cb4-ec93-4c58-a44e-54d2f6ffa7c6 button.colab-df-quickchart');\n",
              "  quickchartButtonEl.style.display =\n",
              "    google.colab.kernel.accessAllowed ? 'block' : 'none';\n",
              "}\n",
              "\n",
              "        displayQuickchartButton(document);\n",
              "      </script>\n",
              "      <style>\n",
              "    .colab-df-container {\n",
              "      display:flex;\n",
              "      flex-wrap:wrap;\n",
              "      gap: 12px;\n",
              "    }\n",
              "\n",
              "    .colab-df-convert {\n",
              "      background-color: #E8F0FE;\n",
              "      border: none;\n",
              "      border-radius: 50%;\n",
              "      cursor: pointer;\n",
              "      display: none;\n",
              "      fill: #1967D2;\n",
              "      height: 32px;\n",
              "      padding: 0 0 0 0;\n",
              "      width: 32px;\n",
              "    }\n",
              "\n",
              "    .colab-df-convert:hover {\n",
              "      background-color: #E2EBFA;\n",
              "      box-shadow: 0px 1px 2px rgba(60, 64, 67, 0.3), 0px 1px 3px 1px rgba(60, 64, 67, 0.15);\n",
              "      fill: #174EA6;\n",
              "    }\n",
              "\n",
              "    [theme=dark] .colab-df-convert {\n",
              "      background-color: #3B4455;\n",
              "      fill: #D2E3FC;\n",
              "    }\n",
              "\n",
              "    [theme=dark] .colab-df-convert:hover {\n",
              "      background-color: #434B5C;\n",
              "      box-shadow: 0px 1px 3px 1px rgba(0, 0, 0, 0.15);\n",
              "      filter: drop-shadow(0px 1px 2px rgba(0, 0, 0, 0.3));\n",
              "      fill: #FFFFFF;\n",
              "    }\n",
              "  </style>\n",
              "\n",
              "      <script>\n",
              "        const buttonEl =\n",
              "          document.querySelector('#df-a1b5d7d7-81ba-4a56-9832-e1f5b3236da4 button.colab-df-convert');\n",
              "        buttonEl.style.display =\n",
              "          google.colab.kernel.accessAllowed ? 'block' : 'none';\n",
              "\n",
              "        async function convertToInteractive(key) {\n",
              "          const element = document.querySelector('#df-a1b5d7d7-81ba-4a56-9832-e1f5b3236da4');\n",
              "          const dataTable =\n",
              "            await google.colab.kernel.invokeFunction('convertToInteractive',\n",
              "                                                     [key], {});\n",
              "          if (!dataTable) return;\n",
              "\n",
              "          const docLinkHtml = 'Like what you see? Visit the ' +\n",
              "            '<a target=\"_blank\" href=https://colab.research.google.com/notebooks/data_table.ipynb>data table notebook</a>'\n",
              "            + ' to learn more about interactive tables.';\n",
              "          element.innerHTML = '';\n",
              "          dataTable['output_type'] = 'display_data';\n",
              "          await google.colab.output.renderOutput(dataTable, element);\n",
              "          const docLink = document.createElement('div');\n",
              "          docLink.innerHTML = docLinkHtml;\n",
              "          element.appendChild(docLink);\n",
              "        }\n",
              "      </script>\n",
              "    </div>\n",
              "  </div>\n"
            ]
          },
          "metadata": {},
          "execution_count": 28
        }
      ]
    },
    {
      "cell_type": "code",
      "source": [
        "# remove the CHN outliers\n",
        "data = data[data['country']!='CHN']\n",
        "\n",
        "# print shape after removing the outliers\n",
        "print(\"Shape of the dataset after removing the CHN outliers:\")\n",
        "data.shape"
      ],
      "metadata": {
        "colab": {
          "base_uri": "https://localhost:8080/"
        },
        "id": "bO4dK0hRwpRk",
        "outputId": "46d92edb-bcff-4334-d930-1334a9be5d8c"
      },
      "execution_count": 39,
      "outputs": [
        {
          "output_type": "stream",
          "name": "stdout",
          "text": [
            "Shape of the dataset after removing the CHN outliers:\n"
          ]
        },
        {
          "output_type": "execute_result",
          "data": {
            "text/plain": [
              "(903, 17)"
            ]
          },
          "metadata": {},
          "execution_count": 39
        }
      ]
    },
    {
      "cell_type": "code",
      "source": [
        "feature_cols = data.columns\n",
        "feature_cols"
      ],
      "metadata": {
        "colab": {
          "base_uri": "https://localhost:8080/"
        },
        "id": "D2DRJB-4xAXI",
        "outputId": "476847e6-c582-4268-a996-291af7c287b1"
      },
      "execution_count": 30,
      "outputs": [
        {
          "output_type": "execute_result",
          "data": {
            "text/plain": [
              "Index(['country', 'year', 'co2_kt', 'co2_per_gdp', 'cereal_yield',\n",
              "       'fdi_perc_gdp', 'elec_access_perc', 'ch4_ttl', 'n2o_ttl',\n",
              "       'urb_pop_growth_perc', 'pop_growth_perc', 'gdp', 'gni_per_cap', 'pop',\n",
              "       'urb_pop', 'agr_land', 'co2_per_cap'],\n",
              "      dtype='object')"
            ]
          },
          "metadata": {},
          "execution_count": 30
        }
      ]
    },
    {
      "cell_type": "markdown",
      "source": [
        "**Dependent variable (DV) to be predicted:**\n",
        "\n",
        "co2_percap: CO2 emissions (kt)\n",
        "\n",
        "**Features/Independent variables:**\n",
        "\n",
        "'co2_per_gdp': CO2 emissions per units of GDP\n",
        "\n",
        "'cereal_yield': Cereal yield\n",
        "\n",
        "'fdi_perc_gdp': Foreign direct investment, net inflows (% of GDP)\n",
        "\n",
        "'ch4_ttl': Methane emissions\n",
        "\n",
        "'n02_ttl': Nitrous Oxide emissions\n",
        "\n",
        "'urb_pop_growth_perc': Urban population growth\n",
        "\n",
        "'pop_growth_perc': Population growth\n",
        "\n",
        "'gdp': GDP\n",
        "\n",
        "'gni_per_cap': GNI per capita\n",
        "\n",
        "'agr_land': Agricultural land\n",
        "\n",
        "'co2_per_cap': CO2 emissions per capita"
      ],
      "metadata": {
        "id": "a1hBrwaTdpYd"
      }
    },
    {
      "cell_type": "code",
      "source": [
        "# choose features and label columns\n",
        "feature_cols = ['co2_per_gdp', 'cereal_yield',\n",
        "       'fdi_perc_gdp', 'ch4_ttl', 'n2o_ttl',\n",
        "       'urb_pop_growth_perc', 'pop_growth_perc', 'gdp', 'gni_per_cap',\n",
        "       'agr_land', 'co2_per_cap']\n",
        "label_col = ['co2_kt']\n",
        "\n",
        "# convert into nympy arrays (required for scikit-learn models)\n",
        "features = np.array(data[feature_cols])\n",
        "labels =  np.array(data[label_col])"
      ],
      "metadata": {
        "id": "erSiccDMw5_y"
      },
      "execution_count": 31,
      "outputs": []
    },
    {
      "cell_type": "code",
      "source": [
        "# Feature scaling\n",
        "scaler = StandardScaler()\n",
        "features = scaler.fit_transform(features)\n",
        "features"
      ],
      "metadata": {
        "id": "pN7qniH-Day-",
        "colab": {
          "base_uri": "https://localhost:8080/"
        },
        "outputId": "6d2c5c26-2c79-40de-8dc5-53fa9e01b2e2"
      },
      "execution_count": 32,
      "outputs": [
        {
          "output_type": "execute_result",
          "data": {
            "text/plain": [
              "array([[ 0.09458051,  3.60112895, -0.59511324, ...,  0.42268416,\n",
              "        -1.4799292 ,  3.8230262 ],\n",
              "       [ 0.28502086, -0.33943018,  0.09064295, ..., -0.61082004,\n",
              "         0.34669335, -0.48626945],\n",
              "       [ 2.32426911, -0.71951459,  0.07669792, ...,  0.02198425,\n",
              "         0.92041532,  2.27106207],\n",
              "       ...,\n",
              "       [-0.18497488,  0.93573968, -0.27175838, ...,  2.07117361,\n",
              "         0.22595411,  1.65968211],\n",
              "       [ 1.53831597, -0.15995289, -0.2974132 , ..., -0.64280293,\n",
              "         1.85707025,  0.31004528],\n",
              "       [-0.7878923 , -0.6372682 , -0.12657354, ..., -0.88678668,\n",
              "        -0.34634991, -1.09564836]])"
            ]
          },
          "metadata": {},
          "execution_count": 32
        }
      ]
    },
    {
      "cell_type": "code",
      "source": [
        "# split into training and testing subsets\n",
        "nr.seed(1)\n",
        "features_train, features_test, labels_train, labels_test = train_test_split(features,\n",
        "                                                                            labels,\n",
        "                                                                            test_size=0.7,\n",
        "                                                                            random_state=random_state_num)"
      ],
      "metadata": {
        "id": "MGWdZtfUxjTf"
      },
      "execution_count": 33,
      "outputs": []
    },
    {
      "cell_type": "code",
      "source": [
        "nr.seed(1)\n",
        "# Hyperparameter tuning using RandomizedSearchCV\n",
        "param_grid = {\n",
        "    'n_estimators': [100, 200, 300],\n",
        "    'max_features' : ['auto', 'sqrt'],\n",
        "    'max_depth': [None, 10, 20],\n",
        "    'min_samples_split': [2, 5, 10],\n",
        "    'min_samples_leaf': [1, 2, 4],\n",
        "}\n",
        "\n",
        "rf_tuner = RandomForestRegressor(random_state=random_state_num)\n",
        "\n",
        "# Perform a randomized search on the grid\n",
        "nr.seed(1)\n",
        "rf_model = ms.RandomizedSearchCV(estimator=rf_tuner, param_distributions = param_grid,\n",
        "                                 random_state=random_state_num, refit=True,\n",
        "                                 cv=5, scoring = 'r2', return_train_score=True, n_jobs=-1, verbose=2)"
      ],
      "metadata": {
        "id": "UC2Cy5O3ELg8"
      },
      "execution_count": 34,
      "outputs": []
    },
    {
      "cell_type": "code",
      "source": [
        "# Fit the grid search model object with cross-validation on the data\n",
        "rf_model.fit(features_train, np.ravel(labels_train))"
      ],
      "metadata": {
        "colab": {
          "base_uri": "https://localhost:8080/",
          "height": 192
        },
        "id": "uNoyplXuYFRA",
        "outputId": "4f47d8b8-3e19-407a-f8f0-fdabb454458b"
      },
      "execution_count": 35,
      "outputs": [
        {
          "output_type": "stream",
          "name": "stdout",
          "text": [
            "Fitting 5 folds for each of 10 candidates, totalling 50 fits\n"
          ]
        },
        {
          "output_type": "stream",
          "name": "stderr",
          "text": [
            "/usr/local/lib/python3.10/dist-packages/sklearn/ensemble/_forest.py:413: FutureWarning: `max_features='auto'` has been deprecated in 1.1 and will be removed in 1.3. To keep the past behaviour, explicitly set `max_features=1.0` or remove this parameter as it is also the default value for RandomForestRegressors and ExtraTreesRegressors.\n",
            "  warn(\n"
          ]
        },
        {
          "output_type": "execute_result",
          "data": {
            "text/plain": [
              "RandomizedSearchCV(cv=5, estimator=RandomForestRegressor(random_state=0),\n",
              "                   n_jobs=-1,\n",
              "                   param_distributions={'max_depth': [None, 10, 20],\n",
              "                                        'max_features': ['auto', 'sqrt'],\n",
              "                                        'min_samples_leaf': [1, 2, 4],\n",
              "                                        'min_samples_split': [2, 5, 10],\n",
              "                                        'n_estimators': [100, 200, 300]},\n",
              "                   random_state=0, return_train_score=True, scoring='r2',\n",
              "                   verbose=2)"
            ],
            "text/html": [
              "<style>#sk-container-id-2 {color: black;background-color: white;}#sk-container-id-2 pre{padding: 0;}#sk-container-id-2 div.sk-toggleable {background-color: white;}#sk-container-id-2 label.sk-toggleable__label {cursor: pointer;display: block;width: 100%;margin-bottom: 0;padding: 0.3em;box-sizing: border-box;text-align: center;}#sk-container-id-2 label.sk-toggleable__label-arrow:before {content: \"▸\";float: left;margin-right: 0.25em;color: #696969;}#sk-container-id-2 label.sk-toggleable__label-arrow:hover:before {color: black;}#sk-container-id-2 div.sk-estimator:hover label.sk-toggleable__label-arrow:before {color: black;}#sk-container-id-2 div.sk-toggleable__content {max-height: 0;max-width: 0;overflow: hidden;text-align: left;background-color: #f0f8ff;}#sk-container-id-2 div.sk-toggleable__content pre {margin: 0.2em;color: black;border-radius: 0.25em;background-color: #f0f8ff;}#sk-container-id-2 input.sk-toggleable__control:checked~div.sk-toggleable__content {max-height: 200px;max-width: 100%;overflow: auto;}#sk-container-id-2 input.sk-toggleable__control:checked~label.sk-toggleable__label-arrow:before {content: \"▾\";}#sk-container-id-2 div.sk-estimator input.sk-toggleable__control:checked~label.sk-toggleable__label {background-color: #d4ebff;}#sk-container-id-2 div.sk-label input.sk-toggleable__control:checked~label.sk-toggleable__label {background-color: #d4ebff;}#sk-container-id-2 input.sk-hidden--visually {border: 0;clip: rect(1px 1px 1px 1px);clip: rect(1px, 1px, 1px, 1px);height: 1px;margin: -1px;overflow: hidden;padding: 0;position: absolute;width: 1px;}#sk-container-id-2 div.sk-estimator {font-family: monospace;background-color: #f0f8ff;border: 1px dotted black;border-radius: 0.25em;box-sizing: border-box;margin-bottom: 0.5em;}#sk-container-id-2 div.sk-estimator:hover {background-color: #d4ebff;}#sk-container-id-2 div.sk-parallel-item::after {content: \"\";width: 100%;border-bottom: 1px solid gray;flex-grow: 1;}#sk-container-id-2 div.sk-label:hover label.sk-toggleable__label {background-color: #d4ebff;}#sk-container-id-2 div.sk-serial::before {content: \"\";position: absolute;border-left: 1px solid gray;box-sizing: border-box;top: 0;bottom: 0;left: 50%;z-index: 0;}#sk-container-id-2 div.sk-serial {display: flex;flex-direction: column;align-items: center;background-color: white;padding-right: 0.2em;padding-left: 0.2em;position: relative;}#sk-container-id-2 div.sk-item {position: relative;z-index: 1;}#sk-container-id-2 div.sk-parallel {display: flex;align-items: stretch;justify-content: center;background-color: white;position: relative;}#sk-container-id-2 div.sk-item::before, #sk-container-id-2 div.sk-parallel-item::before {content: \"\";position: absolute;border-left: 1px solid gray;box-sizing: border-box;top: 0;bottom: 0;left: 50%;z-index: -1;}#sk-container-id-2 div.sk-parallel-item {display: flex;flex-direction: column;z-index: 1;position: relative;background-color: white;}#sk-container-id-2 div.sk-parallel-item:first-child::after {align-self: flex-end;width: 50%;}#sk-container-id-2 div.sk-parallel-item:last-child::after {align-self: flex-start;width: 50%;}#sk-container-id-2 div.sk-parallel-item:only-child::after {width: 0;}#sk-container-id-2 div.sk-dashed-wrapped {border: 1px dashed gray;margin: 0 0.4em 0.5em 0.4em;box-sizing: border-box;padding-bottom: 0.4em;background-color: white;}#sk-container-id-2 div.sk-label label {font-family: monospace;font-weight: bold;display: inline-block;line-height: 1.2em;}#sk-container-id-2 div.sk-label-container {text-align: center;}#sk-container-id-2 div.sk-container {/* jupyter's `normalize.less` sets `[hidden] { display: none; }` but bootstrap.min.css set `[hidden] { display: none !important; }` so we also need the `!important` here to be able to override the default hidden behavior on the sphinx rendered scikit-learn.org. See: https://github.com/scikit-learn/scikit-learn/issues/21755 */display: inline-block !important;position: relative;}#sk-container-id-2 div.sk-text-repr-fallback {display: none;}</style><div id=\"sk-container-id-2\" class=\"sk-top-container\"><div class=\"sk-text-repr-fallback\"><pre>RandomizedSearchCV(cv=5, estimator=RandomForestRegressor(random_state=0),\n",
              "                   n_jobs=-1,\n",
              "                   param_distributions={&#x27;max_depth&#x27;: [None, 10, 20],\n",
              "                                        &#x27;max_features&#x27;: [&#x27;auto&#x27;, &#x27;sqrt&#x27;],\n",
              "                                        &#x27;min_samples_leaf&#x27;: [1, 2, 4],\n",
              "                                        &#x27;min_samples_split&#x27;: [2, 5, 10],\n",
              "                                        &#x27;n_estimators&#x27;: [100, 200, 300]},\n",
              "                   random_state=0, return_train_score=True, scoring=&#x27;r2&#x27;,\n",
              "                   verbose=2)</pre><b>In a Jupyter environment, please rerun this cell to show the HTML representation or trust the notebook. <br />On GitHub, the HTML representation is unable to render, please try loading this page with nbviewer.org.</b></div><div class=\"sk-container\" hidden><div class=\"sk-item sk-dashed-wrapped\"><div class=\"sk-label-container\"><div class=\"sk-label sk-toggleable\"><input class=\"sk-toggleable__control sk-hidden--visually\" id=\"sk-estimator-id-4\" type=\"checkbox\" ><label for=\"sk-estimator-id-4\" class=\"sk-toggleable__label sk-toggleable__label-arrow\">RandomizedSearchCV</label><div class=\"sk-toggleable__content\"><pre>RandomizedSearchCV(cv=5, estimator=RandomForestRegressor(random_state=0),\n",
              "                   n_jobs=-1,\n",
              "                   param_distributions={&#x27;max_depth&#x27;: [None, 10, 20],\n",
              "                                        &#x27;max_features&#x27;: [&#x27;auto&#x27;, &#x27;sqrt&#x27;],\n",
              "                                        &#x27;min_samples_leaf&#x27;: [1, 2, 4],\n",
              "                                        &#x27;min_samples_split&#x27;: [2, 5, 10],\n",
              "                                        &#x27;n_estimators&#x27;: [100, 200, 300]},\n",
              "                   random_state=0, return_train_score=True, scoring=&#x27;r2&#x27;,\n",
              "                   verbose=2)</pre></div></div></div><div class=\"sk-parallel\"><div class=\"sk-parallel-item\"><div class=\"sk-item\"><div class=\"sk-label-container\"><div class=\"sk-label sk-toggleable\"><input class=\"sk-toggleable__control sk-hidden--visually\" id=\"sk-estimator-id-5\" type=\"checkbox\" ><label for=\"sk-estimator-id-5\" class=\"sk-toggleable__label sk-toggleable__label-arrow\">estimator: RandomForestRegressor</label><div class=\"sk-toggleable__content\"><pre>RandomForestRegressor(random_state=0)</pre></div></div></div><div class=\"sk-serial\"><div class=\"sk-item\"><div class=\"sk-estimator sk-toggleable\"><input class=\"sk-toggleable__control sk-hidden--visually\" id=\"sk-estimator-id-6\" type=\"checkbox\" ><label for=\"sk-estimator-id-6\" class=\"sk-toggleable__label sk-toggleable__label-arrow\">RandomForestRegressor</label><div class=\"sk-toggleable__content\"><pre>RandomForestRegressor(random_state=0)</pre></div></div></div></div></div></div></div></div></div></div>"
            ]
          },
          "metadata": {},
          "execution_count": 35
        }
      ]
    },
    {
      "cell_type": "code",
      "source": [
        "# pick the model with the best hyperparameter combination for further analysis\n",
        "rf_best_model = rf_model.best_estimator_"
      ],
      "metadata": {
        "id": "NgoXu5DFZZPM"
      },
      "execution_count": 36,
      "outputs": []
    },
    {
      "cell_type": "code",
      "source": [
        "# make predictions from the features of the testing subset\n",
        "predictions = rf_best_model.predict(features_test)\n",
        "\n",
        "# import the functions for the metrics evaluation\n",
        "from sklearn.metrics import r2_score, mean_squared_error\n",
        "\n",
        "# calculate the metrics basing on the predicted and true values for the test subset\n",
        "r2 = r2_score(y_true=labels_test, y_pred=predictions)\n",
        "mse = mean_squared_error(y_true=labels_test, y_pred=predictions)\n",
        "rmse = np.sqrt(mse)\n",
        "\n",
        "print(\"R2=\")\n",
        "print(r2)\n",
        "print(\"Mean Squared Error: MSE=\")\n",
        "print(mse)\n",
        "print(\"Root Mean Squared Error: RMSE=\")\n",
        "print(rmse)"
      ],
      "metadata": {
        "colab": {
          "base_uri": "https://localhost:8080/"
        },
        "id": "G3tSESLsZe3r",
        "outputId": "f9950a0b-9901-4c9f-9fed-345d612ab861"
      },
      "execution_count": 37,
      "outputs": [
        {
          "output_type": "stream",
          "name": "stdout",
          "text": [
            "R2=\n",
            "0.9836661187257639\n",
            "Mean Squared Error: MSE=\n",
            "11955012087.67907\n",
            "Root Mean Squared Error: RMSE=\n",
            "109338.97789754151\n"
          ]
        }
      ]
    },
    {
      "cell_type": "code",
      "source": [
        "# plot predicted vs true values of the test subset\n",
        "\n",
        "f,ax=plt.subplots(figsize=(15,10))\n",
        "sns.set(font_scale=2)\n",
        "\n",
        "sns.regplot(x=predictions, y=np.transpose(labels_test)[0,:], fit_reg=True)\n",
        "plt.xlabel(\"CO2 emissions per capita [t] - predicted\")\n",
        "plt.ylabel(\"CO2 emissions per capita [t] - true\")\n",
        "plt.title(\"Correlation coefficient R=\"+str(round(np.corrcoef(predictions,np.transpose(labels_test)[0,:])[0,1],2)))\n",
        "plt.show()"
      ],
      "metadata": {
        "colab": {
          "base_uri": "https://localhost:8080/",
          "height": 922
        },
        "id": "LD0FH4TVZqz8",
        "outputId": "2495488e-1a87-43e6-96ac-ed173b4b1252"
      },
      "execution_count": 38,
      "outputs": [
        {
          "output_type": "display_data",
          "data": {
            "text/plain": [
              "<Figure size 1500x1000 with 1 Axes>"
            ],
            "image/png": "[encoded data removed]"
          },
          "metadata": {}
        }
      ]
    },
    {
      "cell_type": "markdown",
      "source": [
        "# **Conclusion**\n",
        "\n",
        "\n",
        "Throughout the process of developing and training the model, extensive efforts have been made to ensure its optimal performance on new, unseen data. The evaluation metrics consistently demonstrate a strong coefficient of determination (R2) of 0.98 across the cross-validated training set and individual folds. Furthermore, when applying the model to the test set, the predicted values exhibit a highly promising correlation with the true values, also resulting in an R2 of 0.98.\n",
        "\n",
        "While no specific confidence intervals or probability values have been calculated for the predictions, the substantial size of the test subset compared to the training subset (with a train/test subset size ratio of 3:7) offers evidence that the model does not suffer from overfitting to the training data and demonstrates robust generalization capabilities to new, previously unseen data.\n",
        "\n",
        "\n",
        "In conclusion, the data used in this analysis enables the accurate prediction of carbon footprints for a specific country over a given year. The predictive model achieves a high precision with an R-squared (R2) value of 98.3%, indicating its strong capability to explain the variance in CO2 emissions based on the selected features.\n"
      ],
      "metadata": {
        "id": "dhyhRbYrg3gs"
      }
    }
  ]
}